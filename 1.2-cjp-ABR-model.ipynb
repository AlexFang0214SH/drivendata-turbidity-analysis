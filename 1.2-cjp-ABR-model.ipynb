{
 "cells": [
  {
   "cell_type": "markdown",
   "metadata": {},
   "source": [
    "# DrivenData Competition: *[Sustainable Industry: Rinse over Run](https://www.drivendata.org/competitions/56/predict-cleaning-time-series/page/125/)*\n",
    "\n",
    "* DrivenData has provided this [helpful blog](http://drivendata.co/blog/rinse-over-run-benchmark/) to get started. I use some of their conventions in this notebook."
   ]
  },
  {
   "cell_type": "markdown",
   "metadata": {},
   "source": [
    "Here we import some necessary packages"
   ]
  },
  {
   "cell_type": "code",
   "execution_count": 1,
   "metadata": {},
   "outputs": [],
   "source": [
    "import numpy as np                                     # used for some data manipulation\n",
    "import pandas as pd                                    # used to aggregating/manipulating data\n",
    "import matplotlib.pyplot as plt                        # used for plotting/graphing\n",
    "\n",
    "from sklearn.model_selection import train_test_split   # used to split train/test data\n",
    "from sklearn.ensemble import RandomForestRegressor     # used to build our model"
   ]
  },
  {
   "cell_type": "markdown",
   "metadata": {},
   "source": [
    "## Loading data"
   ]
  },
  {
   "cell_type": "code",
   "execution_count": 2,
   "metadata": {},
   "outputs": [
    {
     "name": "stderr",
     "output_type": "stream",
     "text": [
      "/anaconda3/lib/python3.7/site-packages/numpy/lib/arraysetops.py:522: FutureWarning: elementwise comparison failed; returning scalar instead, but in the future will perform elementwise comparison\n",
      "  mask |= (ar1 == a)\n"
     ]
    },
    {
     "name": "stdout",
     "output_type": "stream",
     "text": [
      "CPU times: user 45 s, sys: 4.56 s, total: 49.5 s\n",
      "Wall time: 49.9 s\n"
     ]
    }
   ],
   "source": [
    "%%time\n",
    "train_values = pd.read_csv('../data/raw/train_values.csv', index_col = 0, parse_dates = ['timestamp'])"
   ]
  },
  {
   "cell_type": "code",
   "execution_count": 3,
   "metadata": {},
   "outputs": [
    {
     "data": {
      "text/html": [
       "<div>\n",
       "<style scoped>\n",
       "    .dataframe tbody tr th:only-of-type {\n",
       "        vertical-align: middle;\n",
       "    }\n",
       "\n",
       "    .dataframe tbody tr th {\n",
       "        vertical-align: top;\n",
       "    }\n",
       "\n",
       "    .dataframe thead th {\n",
       "        text-align: right;\n",
       "    }\n",
       "</style>\n",
       "<table border=\"1\" class=\"dataframe\">\n",
       "  <thead>\n",
       "    <tr style=\"text-align: right;\">\n",
       "      <th></th>\n",
       "      <th>process_id</th>\n",
       "      <th>object_id</th>\n",
       "      <th>phase</th>\n",
       "      <th>timestamp</th>\n",
       "      <th>pipeline</th>\n",
       "      <th>supply_flow</th>\n",
       "      <th>supply_pressure</th>\n",
       "      <th>return_temperature</th>\n",
       "      <th>return_conductivity</th>\n",
       "      <th>return_turbidity</th>\n",
       "      <th>...</th>\n",
       "      <th>tank_temperature_pre_rinse</th>\n",
       "      <th>tank_temperature_caustic</th>\n",
       "      <th>tank_temperature_acid</th>\n",
       "      <th>tank_concentration_caustic</th>\n",
       "      <th>tank_concentration_acid</th>\n",
       "      <th>tank_lsh_caustic</th>\n",
       "      <th>tank_lsh_acid</th>\n",
       "      <th>tank_lsh_clean_water</th>\n",
       "      <th>tank_lsh_pre_rinse</th>\n",
       "      <th>target_time_period</th>\n",
       "    </tr>\n",
       "    <tr>\n",
       "      <th>row_id</th>\n",
       "      <th></th>\n",
       "      <th></th>\n",
       "      <th></th>\n",
       "      <th></th>\n",
       "      <th></th>\n",
       "      <th></th>\n",
       "      <th></th>\n",
       "      <th></th>\n",
       "      <th></th>\n",
       "      <th></th>\n",
       "      <th></th>\n",
       "      <th></th>\n",
       "      <th></th>\n",
       "      <th></th>\n",
       "      <th></th>\n",
       "      <th></th>\n",
       "      <th></th>\n",
       "      <th></th>\n",
       "      <th></th>\n",
       "      <th></th>\n",
       "      <th></th>\n",
       "    </tr>\n",
       "  </thead>\n",
       "  <tbody>\n",
       "    <tr>\n",
       "      <th>0</th>\n",
       "      <td>20001</td>\n",
       "      <td>405</td>\n",
       "      <td>pre_rinse</td>\n",
       "      <td>2018-04-15 04:20:47</td>\n",
       "      <td>L4</td>\n",
       "      <td>8550.348</td>\n",
       "      <td>0.615451</td>\n",
       "      <td>18.044704</td>\n",
       "      <td>4.990765</td>\n",
       "      <td>0.177228</td>\n",
       "      <td>...</td>\n",
       "      <td>32.385708</td>\n",
       "      <td>83.036750</td>\n",
       "      <td>73.03241</td>\n",
       "      <td>45.394646</td>\n",
       "      <td>44.340126</td>\n",
       "      <td>False</td>\n",
       "      <td>0.0</td>\n",
       "      <td>False</td>\n",
       "      <td>0.0</td>\n",
       "      <td>False</td>\n",
       "    </tr>\n",
       "    <tr>\n",
       "      <th>1</th>\n",
       "      <td>20001</td>\n",
       "      <td>405</td>\n",
       "      <td>pre_rinse</td>\n",
       "      <td>2018-04-15 04:20:49</td>\n",
       "      <td>L4</td>\n",
       "      <td>11364.294</td>\n",
       "      <td>0.654297</td>\n",
       "      <td>18.229168</td>\n",
       "      <td>3.749680</td>\n",
       "      <td>0.122975</td>\n",
       "      <td>...</td>\n",
       "      <td>32.385708</td>\n",
       "      <td>83.015045</td>\n",
       "      <td>73.03241</td>\n",
       "      <td>45.394447</td>\n",
       "      <td>44.339380</td>\n",
       "      <td>False</td>\n",
       "      <td>0.0</td>\n",
       "      <td>False</td>\n",
       "      <td>0.0</td>\n",
       "      <td>False</td>\n",
       "    </tr>\n",
       "    <tr>\n",
       "      <th>2</th>\n",
       "      <td>20001</td>\n",
       "      <td>405</td>\n",
       "      <td>pre_rinse</td>\n",
       "      <td>2018-04-15 04:20:51</td>\n",
       "      <td>L4</td>\n",
       "      <td>12174.479</td>\n",
       "      <td>0.699870</td>\n",
       "      <td>18.395544</td>\n",
       "      <td>2.783954</td>\n",
       "      <td>0.387008</td>\n",
       "      <td>...</td>\n",
       "      <td>32.385708</td>\n",
       "      <td>83.015045</td>\n",
       "      <td>73.03241</td>\n",
       "      <td>45.396280</td>\n",
       "      <td>44.336735</td>\n",
       "      <td>False</td>\n",
       "      <td>0.0</td>\n",
       "      <td>False</td>\n",
       "      <td>0.0</td>\n",
       "      <td>False</td>\n",
       "    </tr>\n",
       "    <tr>\n",
       "      <th>3</th>\n",
       "      <td>20001</td>\n",
       "      <td>405</td>\n",
       "      <td>pre_rinse</td>\n",
       "      <td>2018-04-15 04:20:53</td>\n",
       "      <td>L4</td>\n",
       "      <td>13436.776</td>\n",
       "      <td>0.761502</td>\n",
       "      <td>18.583622</td>\n",
       "      <td>1.769353</td>\n",
       "      <td>0.213397</td>\n",
       "      <td>...</td>\n",
       "      <td>32.385708</td>\n",
       "      <td>83.036750</td>\n",
       "      <td>73.03241</td>\n",
       "      <td>45.401875</td>\n",
       "      <td>44.333110</td>\n",
       "      <td>False</td>\n",
       "      <td>0.0</td>\n",
       "      <td>False</td>\n",
       "      <td>0.0</td>\n",
       "      <td>False</td>\n",
       "    </tr>\n",
       "    <tr>\n",
       "      <th>4</th>\n",
       "      <td>20001</td>\n",
       "      <td>405</td>\n",
       "      <td>pre_rinse</td>\n",
       "      <td>2018-04-15 04:20:55</td>\n",
       "      <td>L4</td>\n",
       "      <td>13776.766</td>\n",
       "      <td>0.837240</td>\n",
       "      <td>18.627026</td>\n",
       "      <td>0.904020</td>\n",
       "      <td>0.148293</td>\n",
       "      <td>...</td>\n",
       "      <td>32.385708</td>\n",
       "      <td>83.015045</td>\n",
       "      <td>73.03241</td>\n",
       "      <td>45.398197</td>\n",
       "      <td>44.334373</td>\n",
       "      <td>False</td>\n",
       "      <td>0.0</td>\n",
       "      <td>False</td>\n",
       "      <td>0.0</td>\n",
       "      <td>False</td>\n",
       "    </tr>\n",
       "  </tbody>\n",
       "</table>\n",
       "<p>5 rows × 35 columns</p>\n",
       "</div>"
      ],
      "text/plain": [
       "        process_id  object_id      phase           timestamp pipeline  \\\n",
       "row_id                                                                  \n",
       "0            20001        405  pre_rinse 2018-04-15 04:20:47       L4   \n",
       "1            20001        405  pre_rinse 2018-04-15 04:20:49       L4   \n",
       "2            20001        405  pre_rinse 2018-04-15 04:20:51       L4   \n",
       "3            20001        405  pre_rinse 2018-04-15 04:20:53       L4   \n",
       "4            20001        405  pre_rinse 2018-04-15 04:20:55       L4   \n",
       "\n",
       "        supply_flow  supply_pressure  return_temperature  return_conductivity  \\\n",
       "row_id                                                                          \n",
       "0          8550.348         0.615451           18.044704             4.990765   \n",
       "1         11364.294         0.654297           18.229168             3.749680   \n",
       "2         12174.479         0.699870           18.395544             2.783954   \n",
       "3         13436.776         0.761502           18.583622             1.769353   \n",
       "4         13776.766         0.837240           18.627026             0.904020   \n",
       "\n",
       "        return_turbidity         ...          tank_temperature_pre_rinse  \\\n",
       "row_id                           ...                                       \n",
       "0               0.177228         ...                           32.385708   \n",
       "1               0.122975         ...                           32.385708   \n",
       "2               0.387008         ...                           32.385708   \n",
       "3               0.213397         ...                           32.385708   \n",
       "4               0.148293         ...                           32.385708   \n",
       "\n",
       "        tank_temperature_caustic  tank_temperature_acid  \\\n",
       "row_id                                                    \n",
       "0                      83.036750               73.03241   \n",
       "1                      83.015045               73.03241   \n",
       "2                      83.015045               73.03241   \n",
       "3                      83.036750               73.03241   \n",
       "4                      83.015045               73.03241   \n",
       "\n",
       "        tank_concentration_caustic  tank_concentration_acid  tank_lsh_caustic  \\\n",
       "row_id                                                                          \n",
       "0                        45.394646                44.340126             False   \n",
       "1                        45.394447                44.339380             False   \n",
       "2                        45.396280                44.336735             False   \n",
       "3                        45.401875                44.333110             False   \n",
       "4                        45.398197                44.334373             False   \n",
       "\n",
       "        tank_lsh_acid  tank_lsh_clean_water  tank_lsh_pre_rinse  \\\n",
       "row_id                                                            \n",
       "0                 0.0                 False                 0.0   \n",
       "1                 0.0                 False                 0.0   \n",
       "2                 0.0                 False                 0.0   \n",
       "3                 0.0                 False                 0.0   \n",
       "4                 0.0                 False                 0.0   \n",
       "\n",
       "        target_time_period  \n",
       "row_id                      \n",
       "0                    False  \n",
       "1                    False  \n",
       "2                    False  \n",
       "3                    False  \n",
       "4                    False  \n",
       "\n",
       "[5 rows x 35 columns]"
      ]
     },
     "execution_count": 3,
     "metadata": {},
     "output_type": "execute_result"
    }
   ],
   "source": [
    "# sneak peek at what our raw training values look like\n",
    "train_values.head()\n",
    "\n",
    "# train_values.info() also gives useful info"
   ]
  },
  {
   "cell_type": "code",
   "execution_count": 4,
   "metadata": {},
   "outputs": [
    {
     "data": {
      "text/html": [
       "<div>\n",
       "<style scoped>\n",
       "    .dataframe tbody tr th:only-of-type {\n",
       "        vertical-align: middle;\n",
       "    }\n",
       "\n",
       "    .dataframe tbody tr th {\n",
       "        vertical-align: top;\n",
       "    }\n",
       "\n",
       "    .dataframe thead th {\n",
       "        text-align: right;\n",
       "    }\n",
       "</style>\n",
       "<table border=\"1\" class=\"dataframe\">\n",
       "  <thead>\n",
       "    <tr style=\"text-align: right;\">\n",
       "      <th></th>\n",
       "      <th>final_rinse_total_turbidity_liter</th>\n",
       "    </tr>\n",
       "    <tr>\n",
       "      <th>process_id</th>\n",
       "      <th></th>\n",
       "    </tr>\n",
       "  </thead>\n",
       "  <tbody>\n",
       "    <tr>\n",
       "      <th>20001</th>\n",
       "      <td>4.318275e+06</td>\n",
       "    </tr>\n",
       "    <tr>\n",
       "      <th>20002</th>\n",
       "      <td>4.375286e+05</td>\n",
       "    </tr>\n",
       "    <tr>\n",
       "      <th>20003</th>\n",
       "      <td>4.271977e+05</td>\n",
       "    </tr>\n",
       "    <tr>\n",
       "      <th>20004</th>\n",
       "      <td>7.197830e+05</td>\n",
       "    </tr>\n",
       "    <tr>\n",
       "      <th>20005</th>\n",
       "      <td>4.133107e+05</td>\n",
       "    </tr>\n",
       "  </tbody>\n",
       "</table>\n",
       "</div>"
      ],
      "text/plain": [
       "            final_rinse_total_turbidity_liter\n",
       "process_id                                   \n",
       "20001                            4.318275e+06\n",
       "20002                            4.375286e+05\n",
       "20003                            4.271977e+05\n",
       "20004                            7.197830e+05\n",
       "20005                            4.133107e+05"
      ]
     },
     "execution_count": 4,
     "metadata": {},
     "output_type": "execute_result"
    }
   ],
   "source": [
    "train_labels = pd.read_csv('../data/raw/train_labels.csv', index_col = 'process_id')\n",
    "\n",
    "# sneak peek at what our raw training values look like\n",
    "train_labels.head()"
   ]
  },
  {
   "cell_type": "code",
   "execution_count": 53,
   "metadata": {},
   "outputs": [
    {
     "data": {
      "text/html": [
       "<div>\n",
       "<style scoped>\n",
       "    .dataframe tbody tr th:only-of-type {\n",
       "        vertical-align: middle;\n",
       "    }\n",
       "\n",
       "    .dataframe tbody tr th {\n",
       "        vertical-align: top;\n",
       "    }\n",
       "\n",
       "    .dataframe thead th {\n",
       "        text-align: right;\n",
       "    }\n",
       "</style>\n",
       "<table border=\"1\" class=\"dataframe\">\n",
       "  <thead>\n",
       "    <tr style=\"text-align: right;\">\n",
       "      <th></th>\n",
       "      <th>pre_rinse</th>\n",
       "      <th>caustic</th>\n",
       "      <th>intermediate_rinse</th>\n",
       "      <th>acid</th>\n",
       "      <th>final_rinse</th>\n",
       "    </tr>\n",
       "    <tr>\n",
       "      <th>process_id</th>\n",
       "      <th></th>\n",
       "      <th></th>\n",
       "      <th></th>\n",
       "      <th></th>\n",
       "      <th></th>\n",
       "    </tr>\n",
       "  </thead>\n",
       "  <tbody>\n",
       "    <tr>\n",
       "      <th>20001</th>\n",
       "      <td>1</td>\n",
       "      <td>1</td>\n",
       "      <td>1</td>\n",
       "      <td>1</td>\n",
       "      <td>1</td>\n",
       "    </tr>\n",
       "    <tr>\n",
       "      <th>20002</th>\n",
       "      <td>1</td>\n",
       "      <td>1</td>\n",
       "      <td>0</td>\n",
       "      <td>0</td>\n",
       "      <td>1</td>\n",
       "    </tr>\n",
       "    <tr>\n",
       "      <th>20003</th>\n",
       "      <td>1</td>\n",
       "      <td>1</td>\n",
       "      <td>1</td>\n",
       "      <td>1</td>\n",
       "      <td>1</td>\n",
       "    </tr>\n",
       "    <tr>\n",
       "      <th>20004</th>\n",
       "      <td>1</td>\n",
       "      <td>1</td>\n",
       "      <td>1</td>\n",
       "      <td>1</td>\n",
       "      <td>1</td>\n",
       "    </tr>\n",
       "    <tr>\n",
       "      <th>20005</th>\n",
       "      <td>1</td>\n",
       "      <td>0</td>\n",
       "      <td>0</td>\n",
       "      <td>1</td>\n",
       "      <td>1</td>\n",
       "    </tr>\n",
       "  </tbody>\n",
       "</table>\n",
       "</div>"
      ],
      "text/plain": [
       "            pre_rinse  caustic  intermediate_rinse  acid  final_rinse\n",
       "process_id                                                           \n",
       "20001               1        1                   1     1            1\n",
       "20002               1        1                   0     0            1\n",
       "20003               1        1                   1     1            1\n",
       "20004               1        1                   1     1            1\n",
       "20005               1        0                   0     1            1"
      ]
     },
     "execution_count": 53,
     "metadata": {},
     "output_type": "execute_result"
    }
   ],
   "source": [
    "recipe =  pd.read_csv('../data/raw/recipe_metadata.csv', index_col = 'process_id')\n",
    "\n",
    "\n",
    "# sneak peek at what our raw training values look like\n",
    "recipe.head()"
   ]
  },
  {
   "cell_type": "markdown",
   "metadata": {},
   "source": [
    "## Getting acquanited with target variable"
   ]
  },
  {
   "cell_type": "markdown",
   "metadata": {},
   "source": [
    "As noted on the competition homepage, the target value we are trying to predict is `final_rinse_total_turbidity_liter`, the total quantity of [turbidity](https://en.wikipedia.org/wiki/Turbidity) returned during the final rinsing phase multiplied by the outgoing flow during the final rinsing, for each cleaning process. Here, we dig into what the target value looks like for individual cleaning processes."
   ]
  },
  {
   "cell_type": "code",
   "execution_count": 5,
   "metadata": {},
   "outputs": [],
   "source": [
    "# subset to final rinse phase observations \n",
    "final_phases = train_values[(train_values.target_time_period)]\n",
    "\n",
    "# let's look at just one process\n",
    "single_process_id = 20004\n",
    "final_phase = final_phases[final_phases.process_id == single_process_id]"
   ]
  },
  {
   "cell_type": "code",
   "execution_count": 6,
   "metadata": {},
   "outputs": [],
   "source": [
    "# calculate target variable\n",
    "final_phase = final_phase.assign(target=np.maximum(final_phase.return_flow, 0) * final_phase.return_turbidity)"
   ]
  },
  {
   "cell_type": "code",
   "execution_count": 7,
   "metadata": {},
   "outputs": [
    {
     "data": {
      "image/png": "[encoded data removed]",
      "text/plain": [
       "<Figure size 1440x360 with 3 Axes>"
      ]
     },
     "metadata": {
      "needs_background": "light"
     },
     "output_type": "display_data"
    }
   ],
   "source": [
    "# plot flow, turbidity, and target \n",
    "fig, ax = plt.subplots(nrows=1, ncols=3, figsize=(20, 5))\n",
    "\n",
    "ax[0].plot(final_phase.return_flow)\n",
    "ax[0].set_title('Return flow in final phase of process {}'.format(single_process_id))\n",
    "\n",
    "ax[1].plot(final_phase.return_turbidity, c='orange')\n",
    "ax[1].set_title('Return turbidity in final phase of process {}'.format(single_process_id))\n",
    "\n",
    "ax[2].plot(final_phase.target, c='green')\n",
    "ax[2].set_title('Turbidity in final phase in NTU.L of process {}'.format(single_process_id));"
   ]
  },
  {
   "cell_type": "code",
   "execution_count": 8,
   "metadata": {},
   "outputs": [
    {
     "name": "stdout",
     "output_type": "stream",
     "text": [
      "Our calculation: 719783.0261053684\n",
      "given label: final_rinse_total_turbidity_liter    719783.026105\n",
      "Name: 20004, dtype: float64\n"
     ]
    }
   ],
   "source": [
    "calculated = final_phase.target.sum()\n",
    "label = train_labels.loc[single_process_id]\n",
    "\n",
    "# confirm that our calculation and given label are equivalent:\n",
    "print('Our calculation: ' + str(calculated) + '\\n' + 'given label: ' + str(label) )"
   ]
  },
  {
   "cell_type": "markdown",
   "metadata": {},
   "source": [
    "## Data exploration"
   ]
  },
  {
   "cell_type": "markdown",
   "metadata": {},
   "source": [
    "The test set does not include datapoints from the final rinse, so we will exclude those in training our model."
   ]
  },
  {
   "cell_type": "code",
   "execution_count": 9,
   "metadata": {},
   "outputs": [],
   "source": [
    "train_values = train_values[train_values.phase != 'final_rinse']"
   ]
  },
  {
   "cell_type": "code",
   "execution_count": 10,
   "metadata": {},
   "outputs": [
    {
     "data": {
      "image/png": "[encoded data removed]",
      "text/plain": [
       "<Figure size 432x288 with 1 Axes>"
      ]
     },
     "metadata": {
      "needs_background": "light"
     },
     "output_type": "display_data"
    }
   ],
   "source": [
    "# visual look at how many phases we have recorded for each cleaning process\n",
    "train_values.groupby('process_id').phase.nunique().value_counts().sort_index().plot.bar()\n",
    "plt.title(\"Number of Processes with $N$ Phases\");"
   ]
  },
  {
   "cell_type": "markdown",
   "metadata": {},
   "source": [
    "On the contest homepage, we are informed that in the test set we are only given data from select previous phases (up to a given time, $t$) and then asked to predict into the future.\n",
    "\n",
    "* For 10% of the test instances, $t$ corresponds to the end of the first (pre-rinse) phase.\n",
    "* For 30% of the test instances, $t$ corresponds to the end of the second (caustic) phase.\n",
    "* For 30% of the test instances, $t$ corresponds to the end of the third (intermediate rinse) phase.\n",
    "* For 30% of the test instances, $t$ corresponds to the end of the fourth (acid) phase.\n",
    "\n",
    "Taking a quick look at the graph above, it is clear that the distribution of our training set does not match the 10/30/30/30 split of our test set. This is a common problem in machine learning referred to as data mismatch. You can read more [here](https://yashuseth.blog/2018/03/20/what-to-do-when-we-have-mismatched-training-and-validation-set/).\n",
    "\n",
    "It is crucial that the distribution of our training set match our test set as best as possible. There are many different techniques to transform/augment our data to do this (all with their own tradeoffs). Here, I've chosen to randomly drop 20% of all phases, which will bring our training/test set distributions closer to matching. It is important to acknowledge that this will have a big impact on our final model. If our model is not performing competently, this will be one of the first places I will turn to re-evaluate."
   ]
  },
  {
   "cell_type": "code",
   "execution_count": 11,
   "metadata": {},
   "outputs": [],
   "source": [
    "# create a unique phase identifier by joining process_id and phase\n",
    "train_values['process_phase'] = train_values.process_id.astype(str) + '_' + train_values.phase.astype(str)\n",
    "process_phases = train_values.process_phase.unique()\n",
    "\n",
    "# randomly select 80% of phases to keep\n",
    "rng = np.random.RandomState(2019)\n",
    "to_keep = rng.choice(\n",
    "                process_phases,\n",
    "                size=np.int(len(process_phases) * 0.8),\n",
    "                replace=False)\n",
    "\n",
    "train_limited = train_values[train_values.process_phase.isin(to_keep)]\n",
    "\n",
    "# subset labels to match our training data\n",
    "train_labels = train_labels.loc[train_limited.process_id.unique()]"
   ]
  },
  {
   "cell_type": "code",
   "execution_count": 12,
   "metadata": {},
   "outputs": [
    {
     "data": {
      "image/png": "[encoded data removed]",
      "text/plain": [
       "<Figure size 432x288 with 1 Axes>"
      ]
     },
     "metadata": {
      "needs_background": "light"
     },
     "output_type": "display_data"
    }
   ],
   "source": [
    "train_limited.groupby('process_id').phase.nunique().value_counts().sort_index().plot.bar()\n",
    "plt.title(\"Number of Processes with $N$ Phases (Subset for Training)\");"
   ]
  },
  {
   "cell_type": "markdown",
   "metadata": {},
   "source": [
    "## Feature Engineering\n",
    "\n",
    "Currently, I've split features up into 3 separate categories: `metadata`, `timeseries` and `timestamp`. I will implement  separate function to prepare each category of features."
   ]
  },
  {
   "cell_type": "code",
   "execution_count": 14,
   "metadata": {},
   "outputs": [
    {
     "data": {
      "text/html": [
       "<div>\n",
       "<style scoped>\n",
       "    .dataframe tbody tr th:only-of-type {\n",
       "        vertical-align: middle;\n",
       "    }\n",
       "\n",
       "    .dataframe tbody tr th {\n",
       "        vertical-align: top;\n",
       "    }\n",
       "\n",
       "    .dataframe thead th {\n",
       "        text-align: right;\n",
       "    }\n",
       "</style>\n",
       "<table border=\"1\" class=\"dataframe\">\n",
       "  <thead>\n",
       "    <tr style=\"text-align: right;\">\n",
       "      <th></th>\n",
       "      <th>pipeline_L3</th>\n",
       "      <th>pipeline_L4</th>\n",
       "      <th>pipeline_L7</th>\n",
       "      <th>pipeline_L12</th>\n",
       "      <th>num_phases</th>\n",
       "    </tr>\n",
       "    <tr>\n",
       "      <th>process_id</th>\n",
       "      <th></th>\n",
       "      <th></th>\n",
       "      <th></th>\n",
       "      <th></th>\n",
       "      <th></th>\n",
       "    </tr>\n",
       "  </thead>\n",
       "  <tbody>\n",
       "    <tr>\n",
       "      <th>20001</th>\n",
       "      <td>0</td>\n",
       "      <td>1</td>\n",
       "      <td>0</td>\n",
       "      <td>0</td>\n",
       "      <td>4</td>\n",
       "    </tr>\n",
       "    <tr>\n",
       "      <th>20002</th>\n",
       "      <td>1</td>\n",
       "      <td>0</td>\n",
       "      <td>0</td>\n",
       "      <td>0</td>\n",
       "      <td>2</td>\n",
       "    </tr>\n",
       "    <tr>\n",
       "      <th>20003</th>\n",
       "      <td>1</td>\n",
       "      <td>0</td>\n",
       "      <td>0</td>\n",
       "      <td>0</td>\n",
       "      <td>3</td>\n",
       "    </tr>\n",
       "    <tr>\n",
       "      <th>20004</th>\n",
       "      <td>0</td>\n",
       "      <td>0</td>\n",
       "      <td>1</td>\n",
       "      <td>0</td>\n",
       "      <td>2</td>\n",
       "    </tr>\n",
       "    <tr>\n",
       "      <th>20005</th>\n",
       "      <td>0</td>\n",
       "      <td>0</td>\n",
       "      <td>1</td>\n",
       "      <td>0</td>\n",
       "      <td>1</td>\n",
       "    </tr>\n",
       "    <tr>\n",
       "      <th>20008</th>\n",
       "      <td>0</td>\n",
       "      <td>1</td>\n",
       "      <td>0</td>\n",
       "      <td>0</td>\n",
       "      <td>3</td>\n",
       "    </tr>\n",
       "  </tbody>\n",
       "</table>\n",
       "</div>"
      ],
      "text/plain": [
       "            pipeline_L3  pipeline_L4  pipeline_L7  pipeline_L12  num_phases\n",
       "process_id                                                                 \n",
       "20001                 0            1            0             0           4\n",
       "20002                 1            0            0             0           2\n",
       "20003                 1            0            0             0           3\n",
       "20004                 0            0            1             0           2\n",
       "20005                 0            0            1             0           1\n",
       "20008                 0            1            0             0           3"
      ]
     },
     "execution_count": 14,
     "metadata": {},
     "output_type": "execute_result"
    }
   ],
   "source": [
    "def prep_metadata(df):\n",
    "    # select process_id and pipeline\n",
    "    meta = df[['process_id', 'pipeline']].drop_duplicates().set_index('process_id') \n",
    "    \n",
    "    # convert categorical pipeline data to dummy variables\n",
    "    meta = pd.get_dummies(meta)\n",
    "    \n",
    "    # pipeline L12 not in test data\n",
    "    if 'L12' not in meta.columns:\n",
    "        meta['pipeline_L12'] = 0\n",
    "    \n",
    "    # calculate number of phases for each process_object\n",
    "    meta['num_phases'] = df.groupby('process_id')['phase'].apply(lambda x: x.nunique())\n",
    "    \n",
    "    return meta\n",
    "\n",
    "# show example for first 5,000 observations\n",
    "prep_metadata(train_limited.head(5000))"
   ]
  },
  {
   "cell_type": "code",
   "execution_count": 15,
   "metadata": {},
   "outputs": [],
   "source": [
    "# variables we'll use to create our time series features\n",
    "ts_cols = [\n",
    "    'process_id',\n",
    "    'supply_flow',\n",
    "    'supply_pressure',\n",
    "    'return_temperature',\n",
    "    'return_conductivity',\n",
    "    'return_turbidity',\n",
    "    'return_flow',\n",
    "    'tank_level_pre_rinse',\n",
    "    'tank_level_caustic',\n",
    "    'tank_level_acid',\n",
    "    'tank_level_clean_water',\n",
    "    'tank_temperature_pre_rinse',\n",
    "    'tank_temperature_caustic',\n",
    "    'tank_temperature_acid',\n",
    "    'tank_concentration_caustic',\n",
    "    'tank_concentration_acid',\n",
    "]"
   ]
  },
  {
   "cell_type": "markdown",
   "metadata": {},
   "source": [
    "* [Great datacamp article](https://www.datacamp.com/community/tutorials/pandas-multi-index) on hierarchical-indexed (or multi-indexed) DataFrames in Pandas\n",
    "    * in particular, their explanation of `.unstack()` helped a ton.\n",
    "* Shoutout to [this stack overflow](https://stackoverflow.com/questions/14507794/pandas-how-to-flatten-a-hierarchical-index-in-columns) for helping me to join a multi-indexed df columns into a single index, as was necessary in the next two functions."
   ]
  },
  {
   "cell_type": "code",
   "execution_count": 25,
   "metadata": {},
   "outputs": [],
   "source": [
    "# Custom time series feature we want to aggregate by\n",
    "def average_derivatives(series):\n",
    "    return np.gradient(series).mean()"
   ]
  },
  {
   "cell_type": "code",
   "execution_count": 28,
   "metadata": {},
   "outputs": [],
   "source": [
    "# Custom time series feature we want to aggregate by\n",
    "def interquartile_range(series):\n",
    "    return series.quantile(0.75) - series.quantile(0.25)"
   ]
  },
  {
   "cell_type": "code",
   "execution_count": 29,
   "metadata": {},
   "outputs": [
    {
     "data": {
      "text/html": [
       "<div>\n",
       "<style scoped>\n",
       "    .dataframe tbody tr th:only-of-type {\n",
       "        vertical-align: middle;\n",
       "    }\n",
       "\n",
       "    .dataframe tbody tr th {\n",
       "        vertical-align: top;\n",
       "    }\n",
       "\n",
       "    .dataframe thead th {\n",
       "        text-align: right;\n",
       "    }\n",
       "</style>\n",
       "<table border=\"1\" class=\"dataframe\">\n",
       "  <thead>\n",
       "    <tr style=\"text-align: right;\">\n",
       "      <th></th>\n",
       "      <th>supply_flow min</th>\n",
       "      <th>supply_flow max</th>\n",
       "      <th>supply_flow mean</th>\n",
       "      <th>supply_flow std</th>\n",
       "      <th>supply_flow &lt;lambda&gt;</th>\n",
       "      <th>supply_flow average_derivatives</th>\n",
       "      <th>supply_flow interquartile_range</th>\n",
       "      <th>supply_pressure min</th>\n",
       "      <th>supply_pressure max</th>\n",
       "      <th>supply_pressure mean</th>\n",
       "      <th>...</th>\n",
       "      <th>tank_concentration_caustic &lt;lambda&gt;</th>\n",
       "      <th>tank_concentration_caustic average_derivatives</th>\n",
       "      <th>tank_concentration_caustic interquartile_range</th>\n",
       "      <th>tank_concentration_acid min</th>\n",
       "      <th>tank_concentration_acid max</th>\n",
       "      <th>tank_concentration_acid mean</th>\n",
       "      <th>tank_concentration_acid std</th>\n",
       "      <th>tank_concentration_acid &lt;lambda&gt;</th>\n",
       "      <th>tank_concentration_acid average_derivatives</th>\n",
       "      <th>tank_concentration_acid interquartile_range</th>\n",
       "    </tr>\n",
       "    <tr>\n",
       "      <th>process_id</th>\n",
       "      <th></th>\n",
       "      <th></th>\n",
       "      <th></th>\n",
       "      <th></th>\n",
       "      <th></th>\n",
       "      <th></th>\n",
       "      <th></th>\n",
       "      <th></th>\n",
       "      <th></th>\n",
       "      <th></th>\n",
       "      <th></th>\n",
       "      <th></th>\n",
       "      <th></th>\n",
       "      <th></th>\n",
       "      <th></th>\n",
       "      <th></th>\n",
       "      <th></th>\n",
       "      <th></th>\n",
       "      <th></th>\n",
       "      <th></th>\n",
       "      <th></th>\n",
       "    </tr>\n",
       "  </thead>\n",
       "  <tbody>\n",
       "    <tr>\n",
       "      <th>20001</th>\n",
       "      <td>21.701390</td>\n",
       "      <td>59396.703</td>\n",
       "      <td>49501.604051</td>\n",
       "      <td>12445.724586</td>\n",
       "      <td>48618.3452</td>\n",
       "      <td>4.755267</td>\n",
       "      <td>231.48000</td>\n",
       "      <td>-0.036024</td>\n",
       "      <td>2.223741</td>\n",
       "      <td>1.673456</td>\n",
       "      <td>...</td>\n",
       "      <td>45.878381</td>\n",
       "      <td>0.000321</td>\n",
       "      <td>0.269024</td>\n",
       "      <td>39.447857</td>\n",
       "      <td>52.411568</td>\n",
       "      <td>44.711593</td>\n",
       "      <td>0.648487</td>\n",
       "      <td>44.653038</td>\n",
       "      <td>0.000219</td>\n",
       "      <td>0.540390</td>\n",
       "    </tr>\n",
       "    <tr>\n",
       "      <th>20002</th>\n",
       "      <td>7.233796</td>\n",
       "      <td>34295.430</td>\n",
       "      <td>27142.963425</td>\n",
       "      <td>8337.197885</td>\n",
       "      <td>29688.2238</td>\n",
       "      <td>42.190389</td>\n",
       "      <td>82.28425</td>\n",
       "      <td>-0.034071</td>\n",
       "      <td>2.170790</td>\n",
       "      <td>1.477925</td>\n",
       "      <td>...</td>\n",
       "      <td>45.269097</td>\n",
       "      <td>-0.001556</td>\n",
       "      <td>0.287860</td>\n",
       "      <td>44.216820</td>\n",
       "      <td>44.708210</td>\n",
       "      <td>44.332388</td>\n",
       "      <td>0.079575</td>\n",
       "      <td>44.229616</td>\n",
       "      <td>-0.000490</td>\n",
       "      <td>0.093877</td>\n",
       "    </tr>\n",
       "    <tr>\n",
       "      <th>20003</th>\n",
       "      <td>-1244.213000</td>\n",
       "      <td>103096.070</td>\n",
       "      <td>29902.913654</td>\n",
       "      <td>10872.426632</td>\n",
       "      <td>30179.3980</td>\n",
       "      <td>-6.668128</td>\n",
       "      <td>5808.73825</td>\n",
       "      <td>-0.033854</td>\n",
       "      <td>3.855469</td>\n",
       "      <td>2.630566</td>\n",
       "      <td>...</td>\n",
       "      <td>44.669835</td>\n",
       "      <td>-0.000389</td>\n",
       "      <td>0.248028</td>\n",
       "      <td>43.750900</td>\n",
       "      <td>45.270653</td>\n",
       "      <td>44.503377</td>\n",
       "      <td>0.236661</td>\n",
       "      <td>44.716846</td>\n",
       "      <td>0.000081</td>\n",
       "      <td>0.374688</td>\n",
       "    </tr>\n",
       "    <tr>\n",
       "      <th>20004</th>\n",
       "      <td>-43.402780</td>\n",
       "      <td>49537.035</td>\n",
       "      <td>31117.193119</td>\n",
       "      <td>13046.723480</td>\n",
       "      <td>33796.2958</td>\n",
       "      <td>47.630579</td>\n",
       "      <td>7566.55000</td>\n",
       "      <td>-0.009549</td>\n",
       "      <td>0.482422</td>\n",
       "      <td>0.287865</td>\n",
       "      <td>...</td>\n",
       "      <td>45.225381</td>\n",
       "      <td>0.000118</td>\n",
       "      <td>0.114388</td>\n",
       "      <td>44.154810</td>\n",
       "      <td>45.862520</td>\n",
       "      <td>44.835026</td>\n",
       "      <td>0.485012</td>\n",
       "      <td>45.226021</td>\n",
       "      <td>0.002288</td>\n",
       "      <td>0.979073</td>\n",
       "    </tr>\n",
       "    <tr>\n",
       "      <th>20005</th>\n",
       "      <td>0.000000</td>\n",
       "      <td>31295.209</td>\n",
       "      <td>28241.716353</td>\n",
       "      <td>7107.794924</td>\n",
       "      <td>30962.0944</td>\n",
       "      <td>91.031195</td>\n",
       "      <td>486.47700</td>\n",
       "      <td>-0.023438</td>\n",
       "      <td>0.487196</td>\n",
       "      <td>0.418469</td>\n",
       "      <td>...</td>\n",
       "      <td>45.739765</td>\n",
       "      <td>0.002925</td>\n",
       "      <td>0.617315</td>\n",
       "      <td>43.527600</td>\n",
       "      <td>44.412254</td>\n",
       "      <td>43.921479</td>\n",
       "      <td>0.249111</td>\n",
       "      <td>43.952939</td>\n",
       "      <td>0.001181</td>\n",
       "      <td>0.401788</td>\n",
       "    </tr>\n",
       "    <tr>\n",
       "      <th>20008</th>\n",
       "      <td>28638.598000</td>\n",
       "      <td>60980.902</td>\n",
       "      <td>51773.149642</td>\n",
       "      <td>8205.815088</td>\n",
       "      <td>55064.3812</td>\n",
       "      <td>-8.746230</td>\n",
       "      <td>215.20150</td>\n",
       "      <td>-0.092665</td>\n",
       "      <td>0.174913</td>\n",
       "      <td>0.167884</td>\n",
       "      <td>...</td>\n",
       "      <td>45.343967</td>\n",
       "      <td>0.000146</td>\n",
       "      <td>0.198230</td>\n",
       "      <td>44.693570</td>\n",
       "      <td>48.434254</td>\n",
       "      <td>44.821386</td>\n",
       "      <td>0.331357</td>\n",
       "      <td>44.948764</td>\n",
       "      <td>0.000247</td>\n",
       "      <td>0.087654</td>\n",
       "    </tr>\n",
       "  </tbody>\n",
       "</table>\n",
       "<p>6 rows × 105 columns</p>\n",
       "</div>"
      ],
      "text/plain": [
       "            supply_flow min  supply_flow max  supply_flow mean  \\\n",
       "process_id                                                       \n",
       "20001             21.701390        59396.703      49501.604051   \n",
       "20002              7.233796        34295.430      27142.963425   \n",
       "20003          -1244.213000       103096.070      29902.913654   \n",
       "20004            -43.402780        49537.035      31117.193119   \n",
       "20005              0.000000        31295.209      28241.716353   \n",
       "20008          28638.598000        60980.902      51773.149642   \n",
       "\n",
       "            supply_flow std  supply_flow <lambda>  \\\n",
       "process_id                                          \n",
       "20001          12445.724586            48618.3452   \n",
       "20002           8337.197885            29688.2238   \n",
       "20003          10872.426632            30179.3980   \n",
       "20004          13046.723480            33796.2958   \n",
       "20005           7107.794924            30962.0944   \n",
       "20008           8205.815088            55064.3812   \n",
       "\n",
       "            supply_flow average_derivatives  supply_flow interquartile_range  \\\n",
       "process_id                                                                     \n",
       "20001                              4.755267                        231.48000   \n",
       "20002                             42.190389                         82.28425   \n",
       "20003                             -6.668128                       5808.73825   \n",
       "20004                             47.630579                       7566.55000   \n",
       "20005                             91.031195                        486.47700   \n",
       "20008                             -8.746230                        215.20150   \n",
       "\n",
       "            supply_pressure min  supply_pressure max  supply_pressure mean  \\\n",
       "process_id                                                                   \n",
       "20001                 -0.036024             2.223741              1.673456   \n",
       "20002                 -0.034071             2.170790              1.477925   \n",
       "20003                 -0.033854             3.855469              2.630566   \n",
       "20004                 -0.009549             0.482422              0.287865   \n",
       "20005                 -0.023438             0.487196              0.418469   \n",
       "20008                 -0.092665             0.174913              0.167884   \n",
       "\n",
       "                               ...                       \\\n",
       "process_id                     ...                        \n",
       "20001                          ...                        \n",
       "20002                          ...                        \n",
       "20003                          ...                        \n",
       "20004                          ...                        \n",
       "20005                          ...                        \n",
       "20008                          ...                        \n",
       "\n",
       "            tank_concentration_caustic <lambda>  \\\n",
       "process_id                                        \n",
       "20001                                 45.878381   \n",
       "20002                                 45.269097   \n",
       "20003                                 44.669835   \n",
       "20004                                 45.225381   \n",
       "20005                                 45.739765   \n",
       "20008                                 45.343967   \n",
       "\n",
       "            tank_concentration_caustic average_derivatives  \\\n",
       "process_id                                                   \n",
       "20001                                             0.000321   \n",
       "20002                                            -0.001556   \n",
       "20003                                            -0.000389   \n",
       "20004                                             0.000118   \n",
       "20005                                             0.002925   \n",
       "20008                                             0.000146   \n",
       "\n",
       "            tank_concentration_caustic interquartile_range  \\\n",
       "process_id                                                   \n",
       "20001                                             0.269024   \n",
       "20002                                             0.287860   \n",
       "20003                                             0.248028   \n",
       "20004                                             0.114388   \n",
       "20005                                             0.617315   \n",
       "20008                                             0.198230   \n",
       "\n",
       "            tank_concentration_acid min  tank_concentration_acid max  \\\n",
       "process_id                                                             \n",
       "20001                         39.447857                    52.411568   \n",
       "20002                         44.216820                    44.708210   \n",
       "20003                         43.750900                    45.270653   \n",
       "20004                         44.154810                    45.862520   \n",
       "20005                         43.527600                    44.412254   \n",
       "20008                         44.693570                    48.434254   \n",
       "\n",
       "            tank_concentration_acid mean  tank_concentration_acid std  \\\n",
       "process_id                                                              \n",
       "20001                          44.711593                     0.648487   \n",
       "20002                          44.332388                     0.079575   \n",
       "20003                          44.503377                     0.236661   \n",
       "20004                          44.835026                     0.485012   \n",
       "20005                          43.921479                     0.249111   \n",
       "20008                          44.821386                     0.331357   \n",
       "\n",
       "            tank_concentration_acid <lambda>  \\\n",
       "process_id                                     \n",
       "20001                              44.653038   \n",
       "20002                              44.229616   \n",
       "20003                              44.716846   \n",
       "20004                              45.226021   \n",
       "20005                              43.952939   \n",
       "20008                              44.948764   \n",
       "\n",
       "            tank_concentration_acid average_derivatives  \\\n",
       "process_id                                                \n",
       "20001                                          0.000219   \n",
       "20002                                         -0.000490   \n",
       "20003                                          0.000081   \n",
       "20004                                          0.002288   \n",
       "20005                                          0.001181   \n",
       "20008                                          0.000247   \n",
       "\n",
       "            tank_concentration_acid interquartile_range  \n",
       "process_id                                               \n",
       "20001                                          0.540390  \n",
       "20002                                          0.093877  \n",
       "20003                                          0.374688  \n",
       "20004                                          0.979073  \n",
       "20005                                          0.401788  \n",
       "20008                                          0.087654  \n",
       "\n",
       "[6 rows x 105 columns]"
      ]
     },
     "execution_count": 29,
     "metadata": {},
     "output_type": "execute_result"
    }
   ],
   "source": [
    "def prep_time_series_features(df, columns=None):\n",
    "    if columns is None:\n",
    "        columns = df.columns\n",
    "    \n",
    "    ts_df = df[ts_cols].set_index('process_id')\n",
    "    \n",
    "    # create features: min, max, mean, standard deviation, and mean of the last five observations\n",
    "    ts_features = ts_df.groupby('process_id').agg(['min', 'max', 'mean', 'std',\n",
    "                                                   lambda x: x.tail(5).mean(),\n",
    "                                                   average_derivatives,\n",
    "                                                  interquartile_range])\n",
    "    \n",
    "    # join multi-indexed (tuple-indexed, really) columns into single index\n",
    "    ts_features.columns = [' '.join(col).strip() for col in ts_features.columns.values]\n",
    "    \n",
    "    return ts_features\n",
    "\n",
    "# show example for first 5,000 observations\n",
    "prep_time_series_features(train_limited.head(5000), columns=ts_cols)"
   ]
  },
  {
   "cell_type": "markdown",
   "metadata": {},
   "source": [
    "* Learned how to change date times to total seconds [here](https://stackoverflow.com/questions/36156582/accessing-total-seconds-in-pandas-data-column)."
   ]
  },
  {
   "cell_type": "code",
   "execution_count": 31,
   "metadata": {},
   "outputs": [
    {
     "data": {
      "text/html": [
       "<div>\n",
       "<style scoped>\n",
       "    .dataframe tbody tr th:only-of-type {\n",
       "        vertical-align: middle;\n",
       "    }\n",
       "\n",
       "    .dataframe tbody tr th {\n",
       "        vertical-align: top;\n",
       "    }\n",
       "\n",
       "    .dataframe thead th {\n",
       "        text-align: right;\n",
       "    }\n",
       "</style>\n",
       "<table border=\"1\" class=\"dataframe\">\n",
       "  <thead>\n",
       "    <tr style=\"text-align: right;\">\n",
       "      <th></th>\n",
       "      <th>acid_phase_length_secs</th>\n",
       "      <th>caustic_phase_length_secs</th>\n",
       "      <th>intermediate_rinse_phase_length_secs</th>\n",
       "      <th>pre_rinse_phase_length_secs</th>\n",
       "    </tr>\n",
       "    <tr>\n",
       "      <th>process_id</th>\n",
       "      <th></th>\n",
       "      <th></th>\n",
       "      <th></th>\n",
       "      <th></th>\n",
       "    </tr>\n",
       "  </thead>\n",
       "  <tbody>\n",
       "    <tr>\n",
       "      <th>20001</th>\n",
       "      <td>732.0</td>\n",
       "      <td>1454.0</td>\n",
       "      <td>128.0</td>\n",
       "      <td>528.0</td>\n",
       "    </tr>\n",
       "    <tr>\n",
       "      <th>20002</th>\n",
       "      <td>0.0</td>\n",
       "      <td>840.0</td>\n",
       "      <td>0.0</td>\n",
       "      <td>48.0</td>\n",
       "    </tr>\n",
       "    <tr>\n",
       "      <th>20003</th>\n",
       "      <td>1218.0</td>\n",
       "      <td>1940.0</td>\n",
       "      <td>276.0</td>\n",
       "      <td>0.0</td>\n",
       "    </tr>\n",
       "    <tr>\n",
       "      <th>20004</th>\n",
       "      <td>572.0</td>\n",
       "      <td>0.0</td>\n",
       "      <td>0.0</td>\n",
       "      <td>170.0</td>\n",
       "    </tr>\n",
       "    <tr>\n",
       "      <th>20005</th>\n",
       "      <td>506.0</td>\n",
       "      <td>0.0</td>\n",
       "      <td>0.0</td>\n",
       "      <td>0.0</td>\n",
       "    </tr>\n",
       "    <tr>\n",
       "      <th>20008</th>\n",
       "      <td>54.0</td>\n",
       "      <td>1416.0</td>\n",
       "      <td>88.0</td>\n",
       "      <td>0.0</td>\n",
       "    </tr>\n",
       "  </tbody>\n",
       "</table>\n",
       "</div>"
      ],
      "text/plain": [
       "            acid_phase_length_secs  caustic_phase_length_secs  \\\n",
       "process_id                                                      \n",
       "20001                        732.0                     1454.0   \n",
       "20002                          0.0                      840.0   \n",
       "20003                       1218.0                     1940.0   \n",
       "20004                        572.0                        0.0   \n",
       "20005                        506.0                        0.0   \n",
       "20008                         54.0                     1416.0   \n",
       "\n",
       "            intermediate_rinse_phase_length_secs  pre_rinse_phase_length_secs  \n",
       "process_id                                                                     \n",
       "20001                                      128.0                        528.0  \n",
       "20002                                        0.0                         48.0  \n",
       "20003                                      276.0                          0.0  \n",
       "20004                                        0.0                        170.0  \n",
       "20005                                        0.0                          0.0  \n",
       "20008                                       88.0                          0.0  "
      ]
     },
     "execution_count": 31,
     "metadata": {},
     "output_type": "execute_result"
    }
   ],
   "source": [
    "def prep_time_stamp_features(df):\n",
    "    time_stamp_features = df[['process_id', 'phase', 'timestamp']].set_index('process_id')\n",
    "    \n",
    "    # calculates the length of each phase in each process, and stacks in multi-indexed DataFrame\n",
    "    time_stamp_features = time_stamp_features.groupby(['process_id', 'phase']).agg([ lambda x: x.tail(1) - x.head(1)])\n",
    "    \n",
    "    # Unstacks to turn each time period for each phase into an individual feature for each process\n",
    "    time_stamp_features = time_stamp_features.unstack()\n",
    "    \n",
    "    # fill NaT with 0's (these arise with processes that do not have all 4 cleaning phases)\n",
    "    time_stamp_features = time_stamp_features.fillna(0)\n",
    "    \n",
    "    # Change values from timestamps to total seconds\n",
    "    time_stamp_features['acid_phase_length_secs'] = time_stamp_features[('timestamp', '<lambda>', 'acid')].dt.total_seconds()\n",
    "    time_stamp_features['caustic_phase_length_secs'] = time_stamp_features[('timestamp', '<lambda>', 'caustic')].dt.total_seconds()\n",
    "    time_stamp_features['intermediate_rinse_phase_length_secs'] = time_stamp_features[('timestamp', '<lambda>', 'intermediate_rinse')].dt.total_seconds()\n",
    "    time_stamp_features['pre_rinse_phase_length_secs'] = time_stamp_features[('timestamp', '<lambda>', 'pre_rinse')].dt.total_seconds()\n",
    "    \n",
    "    # drop multi-indexed (tuple-indexed, really) columns\n",
    "    time_stamp_features = time_stamp_features.drop(columns=[('timestamp', '<lambda>', 'pre_rinse'), ('timestamp', '<lambda>', 'intermediate_rinse'), ('timestamp', '<lambda>', 'caustic'), ('timestamp', '<lambda>', 'acid')])\n",
    "    time_stamp_features.columns = [' '.join(col).strip() for col in time_stamp_features.columns.values]\n",
    "    \n",
    "    return time_stamp_features\n",
    "\n",
    "# Show example on first 5000 observations\n",
    "prep_time_stamp_features(train_limited.head(5000))"
   ]
  },
  {
   "cell_type": "code",
   "execution_count": 97,
   "metadata": {},
   "outputs": [],
   "source": [
    "# Join DataFrames outputted by each of the previous functions\n",
    "def create_feature_matrix(df, recipe_metadata):\n",
    "    metadata = prep_metadata(df)\n",
    "    time_series = prep_time_series_features(df)\n",
    "    time_stamps = prep_time_stamp_features(df)\n",
    "    \n",
    "    # join metadata, timestamp and time series features into a single dataframe\n",
    "    feature_matrix = pd.concat([metadata, time_series, time_stamps], axis=1)\n",
    "    \n",
    "    # filtering recipe metadata to only include values that match with df\n",
    "    recipe_metadata = recipe_metadata.loc[feature_matrix.index]\n",
    "    \n",
    "    # join recipe metadata and other features into single matrix\n",
    "    feature_matrix = pd.concat([feature_matrix, recipe_metadata], axis=1)\n",
    "    \n",
    "    # take care of potential nans\n",
    "    feature_matrix = feature_matrix.fillna(0)\n",
    "    \n",
    "    return feature_matrix"
   ]
  },
  {
   "cell_type": "code",
   "execution_count": 98,
   "metadata": {},
   "outputs": [
    {
     "data": {
      "text/html": [
       "<div>\n",
       "<style scoped>\n",
       "    .dataframe tbody tr th:only-of-type {\n",
       "        vertical-align: middle;\n",
       "    }\n",
       "\n",
       "    .dataframe tbody tr th {\n",
       "        vertical-align: top;\n",
       "    }\n",
       "\n",
       "    .dataframe thead th {\n",
       "        text-align: right;\n",
       "    }\n",
       "</style>\n",
       "<table border=\"1\" class=\"dataframe\">\n",
       "  <thead>\n",
       "    <tr style=\"text-align: right;\">\n",
       "      <th></th>\n",
       "      <th>pipeline_L1</th>\n",
       "      <th>pipeline_L10</th>\n",
       "      <th>pipeline_L11</th>\n",
       "      <th>pipeline_L12</th>\n",
       "      <th>pipeline_L2</th>\n",
       "      <th>pipeline_L3</th>\n",
       "      <th>pipeline_L4</th>\n",
       "      <th>pipeline_L6</th>\n",
       "      <th>pipeline_L7</th>\n",
       "      <th>pipeline_L8</th>\n",
       "      <th>...</th>\n",
       "      <th>tank_concentration_acid interquartile_range</th>\n",
       "      <th>acid_phase_length_secs</th>\n",
       "      <th>caustic_phase_length_secs</th>\n",
       "      <th>intermediate_rinse_phase_length_secs</th>\n",
       "      <th>pre_rinse_phase_length_secs</th>\n",
       "      <th>pre_rinse</th>\n",
       "      <th>caustic</th>\n",
       "      <th>intermediate_rinse</th>\n",
       "      <th>acid</th>\n",
       "      <th>final_rinse</th>\n",
       "    </tr>\n",
       "    <tr>\n",
       "      <th>process_id</th>\n",
       "      <th></th>\n",
       "      <th></th>\n",
       "      <th></th>\n",
       "      <th></th>\n",
       "      <th></th>\n",
       "      <th></th>\n",
       "      <th></th>\n",
       "      <th></th>\n",
       "      <th></th>\n",
       "      <th></th>\n",
       "      <th></th>\n",
       "      <th></th>\n",
       "      <th></th>\n",
       "      <th></th>\n",
       "      <th></th>\n",
       "      <th></th>\n",
       "      <th></th>\n",
       "      <th></th>\n",
       "      <th></th>\n",
       "      <th></th>\n",
       "      <th></th>\n",
       "    </tr>\n",
       "  </thead>\n",
       "  <tbody>\n",
       "    <tr>\n",
       "      <th>20001</th>\n",
       "      <td>0</td>\n",
       "      <td>0</td>\n",
       "      <td>0</td>\n",
       "      <td>0</td>\n",
       "      <td>0</td>\n",
       "      <td>0</td>\n",
       "      <td>1</td>\n",
       "      <td>0</td>\n",
       "      <td>0</td>\n",
       "      <td>0</td>\n",
       "      <td>...</td>\n",
       "      <td>0.540390</td>\n",
       "      <td>732.0</td>\n",
       "      <td>1454.0</td>\n",
       "      <td>128.0</td>\n",
       "      <td>528.0</td>\n",
       "      <td>1</td>\n",
       "      <td>1</td>\n",
       "      <td>1</td>\n",
       "      <td>1</td>\n",
       "      <td>1</td>\n",
       "    </tr>\n",
       "    <tr>\n",
       "      <th>20002</th>\n",
       "      <td>0</td>\n",
       "      <td>0</td>\n",
       "      <td>0</td>\n",
       "      <td>0</td>\n",
       "      <td>0</td>\n",
       "      <td>1</td>\n",
       "      <td>0</td>\n",
       "      <td>0</td>\n",
       "      <td>0</td>\n",
       "      <td>0</td>\n",
       "      <td>...</td>\n",
       "      <td>0.093877</td>\n",
       "      <td>0.0</td>\n",
       "      <td>840.0</td>\n",
       "      <td>0.0</td>\n",
       "      <td>48.0</td>\n",
       "      <td>1</td>\n",
       "      <td>1</td>\n",
       "      <td>0</td>\n",
       "      <td>0</td>\n",
       "      <td>1</td>\n",
       "    </tr>\n",
       "    <tr>\n",
       "      <th>20003</th>\n",
       "      <td>0</td>\n",
       "      <td>0</td>\n",
       "      <td>0</td>\n",
       "      <td>0</td>\n",
       "      <td>0</td>\n",
       "      <td>1</td>\n",
       "      <td>0</td>\n",
       "      <td>0</td>\n",
       "      <td>0</td>\n",
       "      <td>0</td>\n",
       "      <td>...</td>\n",
       "      <td>0.374688</td>\n",
       "      <td>1218.0</td>\n",
       "      <td>1940.0</td>\n",
       "      <td>276.0</td>\n",
       "      <td>0.0</td>\n",
       "      <td>1</td>\n",
       "      <td>1</td>\n",
       "      <td>1</td>\n",
       "      <td>1</td>\n",
       "      <td>1</td>\n",
       "    </tr>\n",
       "    <tr>\n",
       "      <th>20004</th>\n",
       "      <td>0</td>\n",
       "      <td>0</td>\n",
       "      <td>0</td>\n",
       "      <td>0</td>\n",
       "      <td>0</td>\n",
       "      <td>0</td>\n",
       "      <td>0</td>\n",
       "      <td>0</td>\n",
       "      <td>1</td>\n",
       "      <td>0</td>\n",
       "      <td>...</td>\n",
       "      <td>0.979073</td>\n",
       "      <td>572.0</td>\n",
       "      <td>0.0</td>\n",
       "      <td>0.0</td>\n",
       "      <td>170.0</td>\n",
       "      <td>1</td>\n",
       "      <td>1</td>\n",
       "      <td>1</td>\n",
       "      <td>1</td>\n",
       "      <td>1</td>\n",
       "    </tr>\n",
       "    <tr>\n",
       "      <th>20005</th>\n",
       "      <td>0</td>\n",
       "      <td>0</td>\n",
       "      <td>0</td>\n",
       "      <td>0</td>\n",
       "      <td>0</td>\n",
       "      <td>0</td>\n",
       "      <td>0</td>\n",
       "      <td>0</td>\n",
       "      <td>1</td>\n",
       "      <td>0</td>\n",
       "      <td>...</td>\n",
       "      <td>0.401788</td>\n",
       "      <td>506.0</td>\n",
       "      <td>0.0</td>\n",
       "      <td>0.0</td>\n",
       "      <td>0.0</td>\n",
       "      <td>1</td>\n",
       "      <td>0</td>\n",
       "      <td>0</td>\n",
       "      <td>1</td>\n",
       "      <td>1</td>\n",
       "    </tr>\n",
       "  </tbody>\n",
       "</table>\n",
       "<p>5 rows × 126 columns</p>\n",
       "</div>"
      ],
      "text/plain": [
       "            pipeline_L1  pipeline_L10  pipeline_L11  pipeline_L12  \\\n",
       "process_id                                                          \n",
       "20001                 0             0             0             0   \n",
       "20002                 0             0             0             0   \n",
       "20003                 0             0             0             0   \n",
       "20004                 0             0             0             0   \n",
       "20005                 0             0             0             0   \n",
       "\n",
       "            pipeline_L2  pipeline_L3  pipeline_L4  pipeline_L6  pipeline_L7  \\\n",
       "process_id                                                                    \n",
       "20001                 0            0            1            0            0   \n",
       "20002                 0            1            0            0            0   \n",
       "20003                 0            1            0            0            0   \n",
       "20004                 0            0            0            0            1   \n",
       "20005                 0            0            0            0            1   \n",
       "\n",
       "            pipeline_L8     ...       \\\n",
       "process_id                  ...        \n",
       "20001                 0     ...        \n",
       "20002                 0     ...        \n",
       "20003                 0     ...        \n",
       "20004                 0     ...        \n",
       "20005                 0     ...        \n",
       "\n",
       "            tank_concentration_acid interquartile_range  \\\n",
       "process_id                                                \n",
       "20001                                          0.540390   \n",
       "20002                                          0.093877   \n",
       "20003                                          0.374688   \n",
       "20004                                          0.979073   \n",
       "20005                                          0.401788   \n",
       "\n",
       "            acid_phase_length_secs  caustic_phase_length_secs  \\\n",
       "process_id                                                      \n",
       "20001                        732.0                     1454.0   \n",
       "20002                          0.0                      840.0   \n",
       "20003                       1218.0                     1940.0   \n",
       "20004                        572.0                        0.0   \n",
       "20005                        506.0                        0.0   \n",
       "\n",
       "            intermediate_rinse_phase_length_secs  pre_rinse_phase_length_secs  \\\n",
       "process_id                                                                      \n",
       "20001                                      128.0                        528.0   \n",
       "20002                                        0.0                         48.0   \n",
       "20003                                      276.0                          0.0   \n",
       "20004                                        0.0                        170.0   \n",
       "20005                                        0.0                          0.0   \n",
       "\n",
       "            pre_rinse  caustic  intermediate_rinse  acid  final_rinse  \n",
       "process_id                                                             \n",
       "20001               1        1                   1     1            1  \n",
       "20002               1        1                   0     0            1  \n",
       "20003               1        1                   1     1            1  \n",
       "20004               1        1                   1     1            1  \n",
       "20005               1        0                   0     1            1  \n",
       "\n",
       "[5 rows x 126 columns]"
      ]
     },
     "execution_count": 98,
     "metadata": {},
     "output_type": "execute_result"
    }
   ],
   "source": [
    "train_features = create_feature_matrix(train_limited, recipe)\n",
    "train_features.head()"
   ]
  },
  {
   "cell_type": "markdown",
   "metadata": {},
   "source": [
    "## Feature Exploration"
   ]
  },
  {
   "cell_type": "markdown",
   "metadata": {},
   "source": [
    "Now that we have established our features, we will use the [`featexp`](https://github.com/abhayspawar/featexp) module to explore each feature individually and evaluate their utility. During this process we will split up our training set into `X_train` and `X_val`, representing training sets and validation sets, respectively. From there, we'll juxtapose the behavior of each feature in the train and validation sets with respect to the target value, `final_rinse_total_turbidity_liter`, to assess whether there is genuine signal, or just random noise.\n",
    "\n",
    "One important piece to acknowledge is that even before splitting our data into train/val sets, we don't have a ton of data. `len(train_features) = 4902`, which is not a ton of data in the context of machine learning. We should be careful not to introduce [data leakage](https://machinelearningmastery.com/data-leakage-machine-learning/) by making feature selection decisions based on validation set data, then also training our final model of val set data."
   ]
  },
  {
   "cell_type": "code",
   "execution_count": 99,
   "metadata": {},
   "outputs": [],
   "source": [
    "import featexp"
   ]
  },
  {
   "cell_type": "code",
   "execution_count": 100,
   "metadata": {},
   "outputs": [],
   "source": [
    "# This is not really splitting up into train/test, it is actually train/val\n",
    "X_train, X_val, y_train, y_val = train_test_split(train_features, train_labels, test_size=0.33, random_state=42)"
   ]
  },
  {
   "cell_type": "code",
   "execution_count": 101,
   "metadata": {},
   "outputs": [],
   "source": [
    "# concat train/val values with train/val labels for easy input into featexp module\n",
    "data_train = pd.concat([X_train, y_train], axis=1)\n",
    "data_test = pd.concat([X_val, y_val], axis=1)"
   ]
  },
  {
   "cell_type": "code",
   "execution_count": 102,
   "metadata": {},
   "outputs": [
    {
     "name": "stdout",
     "output_type": "stream",
     "text": [
      "                                   Plots for acid_phase_length_secs                                   \n",
      "                                           Train data plots                                           \n"
     ]
    },
    {
     "data": {
      "image/png": "[encoded data removed]",
      "text/plain": [
       "<Figure size 864x360 with 2 Axes>"
      ]
     },
     "metadata": {
      "needs_background": "light"
     },
     "output_type": "display_data"
    },
    {
     "name": "stdout",
     "output_type": "stream",
     "text": [
      "                                           Test data plots                                            \n"
     ]
    },
    {
     "data": {
      "image/png": "[encoded data removed]",
      "text/plain": [
       "<Figure size 864x360 with 2 Axes>"
      ]
     },
     "metadata": {
      "needs_background": "light"
     },
     "output_type": "display_data"
    },
    {
     "name": "stdout",
     "output_type": "stream",
     "text": [
      "--------------------------------------------------------------------------------------------------------------\n",
      "\n",
      "\n"
     ]
    }
   ],
   "source": [
    "featexp.get_univariate_plots(data=data_train, target_col='final_rinse_total_turbidity_liter', data_test = data_test, features_list = ['acid_phase_length_secs'])\n",
    "\n",
    "# data_test and features_list are optional. \n",
    "# Draws plots for all columns if features_list not passed\n",
    "# Draws only train data plots if no test_data passed"
   ]
  },
  {
   "cell_type": "markdown",
   "metadata": {},
   "source": [
    "Here, we calculate statistics on all features we've engineered and move forward with all features that have greater that .75 correlation with themselves. This .75 threshold is a somewhat arbitrary starting point which may need further tuning as we iterate through models."
   ]
  },
  {
   "cell_type": "code",
   "execution_count": 103,
   "metadata": {},
   "outputs": [
    {
     "name": "stdout",
     "output_type": "stream",
     "text": [
      "Only one bin created for pipeline_L12. Correlation can't be calculated\n",
      "Only one bin created for pre_rinse. Correlation can't be calculated\n",
      "Only one bin created for caustic. Correlation can't be calculated\n",
      "Only one bin created for final_rinse. Correlation can't be calculated\n",
      "Returning stats for all numeric features\n",
      "['pipeline_L1' 'pipeline_L10' 'pipeline_L11' 'pipeline_L2' 'pipeline_L3'\n",
      " 'pipeline_L4' 'pipeline_L6' 'pipeline_L7' 'pipeline_L8' 'pipeline_L9'\n",
      " 'num_phases' 'supply_flow min' 'supply_flow max' 'supply_flow mean'\n",
      " 'supply_flow std' 'supply_flow <lambda>' 'supply_pressure min'\n",
      " 'supply_pressure max' 'supply_pressure mean' 'supply_pressure std'\n",
      " 'supply_pressure <lambda>' 'supply_pressure average_derivatives'\n",
      " 'supply_pressure interquartile_range' 'return_temperature std'\n",
      " 'return_temperature <lambda>' 'return_conductivity mean'\n",
      " 'return_conductivity <lambda>' 'return_conductivity interquartile_range'\n",
      " 'return_turbidity <lambda>' 'return_turbidity average_derivatives'\n",
      " 'return_flow min' 'return_flow max' 'return_flow mean' 'return_flow std'\n",
      " 'return_flow <lambda>' 'tank_level_caustic interquartile_range'\n",
      " 'tank_temperature_acid average_derivatives'\n",
      " 'tank_concentration_caustic std' 'acid_phase_length_secs'\n",
      " 'caustic_phase_length_secs' 'intermediate_rinse' 'acid']\n"
     ]
    }
   ],
   "source": [
    "# calculate stats on trend of each feature in train/val sets\n",
    "stats = featexp.get_trend_stats(data=data_train, target_col='final_rinse_total_turbidity_liter', data_test = data_test)\n",
    "\n",
    "# identify features that have train/val correlation > .75\n",
    "useful_features = stats[stats.Trend_correlation > .75].Feature.values\n",
    "print(useful_features)"
   ]
  },
  {
   "cell_type": "markdown",
   "metadata": {},
   "source": [
    "## Building Model and Predicting on training data"
   ]
  },
  {
   "cell_type": "code",
   "execution_count": 104,
   "metadata": {},
   "outputs": [],
   "source": [
    "# subsetting columns of train/val data to have only useful features\n",
    "X_train = X_train[list(useful_features)]\n",
    "X_val = X_val[list(useful_features)]"
   ]
  },
  {
   "cell_type": "markdown",
   "metadata": {},
   "source": [
    "These two lines below build and train our [`AdaBoostRegressor`](https://scikit-learn.org/stable/modules/generated/sklearn.ensemble.AdaBoostRegressor.html). Decision Tree-based models generally perform well in scenarios akin to ours, when we have a large number of numeric variables. I started by experimenting with Random Forests, but found better performance in this Ada-Boosted model."
   ]
  },
  {
   "cell_type": "code",
   "execution_count": 105,
   "metadata": {},
   "outputs": [],
   "source": [
    "from sklearn.tree import DecisionTreeRegressor\n",
    "from sklearn.ensemble import AdaBoostRegressor"
   ]
  },
  {
   "cell_type": "code",
   "execution_count": 106,
   "metadata": {},
   "outputs": [
    {
     "name": "stdout",
     "output_type": "stream",
     "text": [
      "CPU times: user 4.38 s, sys: 22.6 ms, total: 4.4 s\n",
      "Wall time: 4.42 s\n"
     ]
    }
   ],
   "source": [
    "%%time\n",
    "abr = AdaBoostRegressor(DecisionTreeRegressor(max_depth=50), n_estimators=100, random_state=742)\n",
    "\n",
    "abr.fit(X_train, np.ravel(y_train))"
   ]
  },
  {
   "cell_type": "markdown",
   "metadata": {},
   "source": [
    "One unique feature of the tree-based models is that we can directly calculate just how important each feature is to our model. See graph below."
   ]
  },
  {
   "cell_type": "code",
   "execution_count": 107,
   "metadata": {},
   "outputs": [
    {
     "data": {
      "text/plain": [
       "Text(0.5, 1.0, 'Importance of each feature to our model')"
      ]
     },
     "execution_count": 107,
     "metadata": {},
     "output_type": "execute_result"
    },
    {
     "data": {
      "image/png": "[encoded data removed]",
      "text/plain": [
       "<Figure size 720x864 with 1 Axes>"
      ]
     },
     "metadata": {
      "needs_background": "light"
     },
     "output_type": "display_data"
    }
   ],
   "source": [
    "importance = pd.Series(abr.feature_importances_ * 100, index = X_train.columns)\n",
    "importance = importance.sort_values(axis=0, ascending = False)\n",
    "importance.plot(kind='barh', figsize = (10,12) ,color='r', )\n",
    "plt.title('Importance of each feature to our model')"
   ]
  },
  {
   "cell_type": "markdown",
   "metadata": {},
   "source": [
    "This graph tells us a lot. The first thing that sticks out is that the majority of pipelines have no predicitve power, except for `pipeline_L9`, which is our 4th most predictive feature. I would likely request more information from warehouse floor managers about pipeline L9 and whether they're aware of how clearly it indicates `final_rinse_total_turbidity_liter` relative to other pipelines. Depending on the context, it may be appropriate to leave all or most pipeline features out of our model."
   ]
  },
  {
   "cell_type": "markdown",
   "metadata": {},
   "source": [
    "Now we use our model to make predictions on our training/val sets and take a look at the performance metric, [mean absolute percentage error](https://en.wikipedia.org/wiki/Mean_absolute_percentage_error)."
   ]
  },
  {
   "cell_type": "code",
   "execution_count": 108,
   "metadata": {},
   "outputs": [
    {
     "name": "stdout",
     "output_type": "stream",
     "text": [
      "Mean absolute percentage error on Training Data: 0.1886615952239438\n",
      "Mean absolute percentage error on Validation Data: 0.497210762438442\n"
     ]
    }
   ],
   "source": [
    "train_preds = abr.predict(X_train)\n",
    "\n",
    "# As posted on competition website, threshold = 290000\n",
    "threshold = 290000\n",
    "n = len(train_preds)\n",
    "mape = (1/n) * np.sum((np.abs(train_preds.reshape(n,1) - y_train.values)) / np.maximum(np.abs(y_train.values), threshold))\n",
    "\n",
    "# Training set mean absolute percentage error\n",
    "print(\"Mean absolute percentage error on Training Data:\", mape)\n",
    "\n",
    "\n",
    "\n",
    "val_preds = abr.predict(X_val)\n",
    "\n",
    "# As posted on competition website, threshold = 290000\n",
    "threshold = 290000\n",
    "n = len(val_preds)\n",
    "mape = (1/n) * np.sum((np.abs(val_preds.reshape(n,1) - y_val.values)) / np.maximum(np.abs(y_val.values), threshold))\n",
    "\n",
    "# Training set mean absolute percentage error\n",
    "print(\"Mean absolute percentage error on Validation Data:\", mape)"
   ]
  },
  {
   "cell_type": "markdown",
   "metadata": {},
   "source": [
    "Overall, these are a decent predictions that would be sufficient for most use-cases. In particular, the length of training time (only 3.51 secs) is a huge bonus. We may be able to marginally improve these predictions by experimenting with some gradient-boosted Decision Tree-based models, but we would pay a significant cost in time required to train the model. \n",
    "\n",
    "One approach that we have not attempted is to feed the raw sensor data into a deep neural net. Training time would again be long, but it's possible that this could yield a much improved model. I would only building a custom neural net for this when very high accuracy is mission-critical, and alternative feature engineering ideas have been exhausted."
   ]
  },
  {
   "cell_type": "markdown",
   "metadata": {},
   "source": [
    "## Preparing Prediction Submission"
   ]
  },
  {
   "cell_type": "code",
   "execution_count": 65,
   "metadata": {},
   "outputs": [
    {
     "name": "stderr",
     "output_type": "stream",
     "text": [
      "/anaconda3/lib/python3.7/site-packages/numpy/lib/arraysetops.py:522: FutureWarning: elementwise comparison failed; returning scalar instead, but in the future will perform elementwise comparison\n",
      "  mask |= (ar1 == a)\n"
     ]
    }
   ],
   "source": [
    "# load the test data\n",
    "test_values = pd.read_csv('../data/raw/test_values.csv', index_col = 0, parse_dates=['timestamp'])"
   ]
  },
  {
   "cell_type": "code",
   "execution_count": 109,
   "metadata": {},
   "outputs": [
    {
     "name": "stderr",
     "output_type": "stream",
     "text": [
      "/anaconda3/lib/python3.7/site-packages/ipykernel_launcher.py:11: FutureWarning: \n",
      "Passing list-likes to .loc or [] with any missing label will raise\n",
      "KeyError in the future, you can use .reindex() as an alternative.\n",
      "\n",
      "See the documentation here:\n",
      "https://pandas.pydata.org/pandas-docs/stable/indexing.html#deprecate-loc-reindex-listlike\n",
      "  # This is added back by InteractiveShellApp.init_path()\n"
     ]
    }
   ],
   "source": [
    "# create metadata and time series features and time stamp features\n",
    "test_features = create_feature_matrix(test_values, recipe)\n",
    "\n",
    "# subset test_features to only include useful features\n",
    "test_features = test_features[list(useful_features)]"
   ]
  },
  {
   "cell_type": "code",
   "execution_count": 110,
   "metadata": {},
   "outputs": [],
   "source": [
    "# Make Predictions\n",
    "pred_1_2 = abr.predict(test_features)"
   ]
  },
  {
   "cell_type": "code",
   "execution_count": 111,
   "metadata": {},
   "outputs": [],
   "source": [
    "submission_format = pd.read_csv('../data/raw/submission_format.csv', index_col= 0)"
   ]
  },
  {
   "cell_type": "code",
   "execution_count": 113,
   "metadata": {},
   "outputs": [],
   "source": [
    "# confirm everything is in the right order\n",
    "assert np.all(test_features.index == submission_format.index)"
   ]
  },
  {
   "cell_type": "code",
   "execution_count": 114,
   "metadata": {},
   "outputs": [],
   "source": [
    "pred_1_2 = pd.DataFrame(data = pred_1_2, columns=submission_format.columns,index = submission_format.index)"
   ]
  },
  {
   "cell_type": "code",
   "execution_count": 115,
   "metadata": {},
   "outputs": [
    {
     "data": {
      "text/html": [
       "<div>\n",
       "<style scoped>\n",
       "    .dataframe tbody tr th:only-of-type {\n",
       "        vertical-align: middle;\n",
       "    }\n",
       "\n",
       "    .dataframe tbody tr th {\n",
       "        vertical-align: top;\n",
       "    }\n",
       "\n",
       "    .dataframe thead th {\n",
       "        text-align: right;\n",
       "    }\n",
       "</style>\n",
       "<table border=\"1\" class=\"dataframe\">\n",
       "  <thead>\n",
       "    <tr style=\"text-align: right;\">\n",
       "      <th></th>\n",
       "      <th>final_rinse_total_turbidity_liter</th>\n",
       "    </tr>\n",
       "    <tr>\n",
       "      <th>process_id</th>\n",
       "      <th></th>\n",
       "    </tr>\n",
       "  </thead>\n",
       "  <tbody>\n",
       "    <tr>\n",
       "      <th>20000</th>\n",
       "      <td>1.476096e+06</td>\n",
       "    </tr>\n",
       "    <tr>\n",
       "      <th>20006</th>\n",
       "      <td>1.111978e+06</td>\n",
       "    </tr>\n",
       "    <tr>\n",
       "      <th>20007</th>\n",
       "      <td>1.109852e+06</td>\n",
       "    </tr>\n",
       "    <tr>\n",
       "      <th>20009</th>\n",
       "      <td>1.308202e+06</td>\n",
       "    </tr>\n",
       "    <tr>\n",
       "      <th>20010</th>\n",
       "      <td>6.611908e+05</td>\n",
       "    </tr>\n",
       "  </tbody>\n",
       "</table>\n",
       "</div>"
      ],
      "text/plain": [
       "            final_rinse_total_turbidity_liter\n",
       "process_id                                   \n",
       "20000                            1.476096e+06\n",
       "20006                            1.111978e+06\n",
       "20007                            1.109852e+06\n",
       "20009                            1.308202e+06\n",
       "20010                            6.611908e+05"
      ]
     },
     "execution_count": 115,
     "metadata": {},
     "output_type": "execute_result"
    }
   ],
   "source": [
    "pred_1_2.head()"
   ]
  },
  {
   "cell_type": "code",
   "execution_count": 116,
   "metadata": {},
   "outputs": [],
   "source": [
    "pred_1_2.to_csv('../models/pred_1.2.csv')"
   ]
  },
  {
   "cell_type": "code",
   "execution_count": 117,
   "metadata": {},
   "outputs": [
    {
     "name": "stdout",
     "output_type": "stream",
     "text": [
      "process_id,final_rinse_total_turbidity_liter\n",
      "20000,1476096.223592035\n",
      "20006,1111978.438698327\n",
      "20007,1109851.694641845\n",
      "20009,1308202.239947156\n",
      "20010,661190.7572811783\n",
      "20012,653208.4572713246\n",
      "20013,101705.78418200984\n",
      "20015,237499.31862240372\n",
      "20020,828641.2554670094\n"
     ]
    }
   ],
   "source": [
    "!head ../models/pred_1.2.csv"
   ]
  }
 ],
 "metadata": {
  "kernelspec": {
   "display_name": "Python 3",
   "language": "python",
   "name": "python3"
  },
  "language_info": {
   "codemirror_mode": {
    "name": "ipython",
    "version": 3
   },
   "file_extension": ".py",
   "mimetype": "text/x-python",
   "name": "python",
   "nbconvert_exporter": "python",
   "pygments_lexer": "ipython3",
   "version": "3.6.8"
  }
 },
 "nbformat": 4,
 "nbformat_minor": 2
}
